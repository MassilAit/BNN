{
 "cells": [
  {
   "cell_type": "markdown",
   "metadata": {},
   "source": [
    "# Model Analysis"
   ]
  },
  {
   "cell_type": "markdown",
   "metadata": {},
   "source": [
    "## Imports"
   ]
  },
  {
   "cell_type": "markdown",
   "metadata": {},
   "source": [
    "### Default imports"
   ]
  },
  {
   "cell_type": "code",
   "execution_count": 2,
   "metadata": {},
   "outputs": [],
   "source": [
    "import torch\n",
    "import torch.nn as nn\n",
    "import torch.optim as optim\n",
    "from torch.utils.data import DataLoader\n",
    "import json\n"
   ]
  },
  {
   "cell_type": "markdown",
   "metadata": {},
   "source": [
    "### Custom imports"
   ]
  },
  {
   "cell_type": "code",
   "execution_count": 3,
   "metadata": {},
   "outputs": [],
   "source": [
    "from model import BinarizedModel\n",
    "from dataset import LUTDataSet\n",
    "from train import train_model"
   ]
  },
  {
   "cell_type": "code",
   "execution_count": 38,
   "metadata": {},
   "outputs": [],
   "source": [
    "def evaluate_model_lut(model, lut):\n",
    "    \"\"\"\n",
    "    Evaluate the model using a given lut and returns the statistic.\n",
    "\n",
    "    Args:\n",
    "        model (torch.nn.Module): The model to evaluate.\n",
    "        input_size (int): The size of the input vector.\n",
    "        lut (dict): look_up_table.\n",
    "\n",
    "    Returns:\n",
    "        Overall accuracy, false output accuracy, and true output accuracy.\n",
    "    \"\"\"\n",
    "    model.eval()\n",
    "    n=0\n",
    "    correct = 0\n",
    "    n_false = 0\n",
    "    correct_false = 0\n",
    "    n_true = 0\n",
    "    correct_true = 0\n",
    "\n",
    "    for input,expected_output in lut.items():\n",
    "        \n",
    "        with torch.no_grad():\n",
    "            prediction = model(torch.tensor(input, dtype=torch.float32))\n",
    "\n",
    "        if not expected_output:\n",
    "            n_false += 1\n",
    "        else:\n",
    "            n_true += 1\n",
    "\n",
    "        if prediction == int(expected_output):\n",
    "            correct += 1\n",
    "            if not expected_output:\n",
    "                correct_false += 1\n",
    "            else:\n",
    "                correct_true += 1\n",
    "        n+=1\n",
    "\n",
    "    overall_score= correct/n\n",
    "    false_score = correct_false / n_false if n_false >0 else 1.0\n",
    "    true_score  = correct_true / n_true if n_true >0 else 1.0\n",
    "\n",
    "    return overall_score, false_score, true_score\n",
    "\n",
    "\n",
    "\n",
    "#def print_model_output(model, LUT):\n"
   ]
  },
  {
   "cell_type": "markdown",
   "metadata": {},
   "source": [
    "## Datas "
   ]
  },
  {
   "cell_type": "code",
   "execution_count": 57,
   "metadata": {},
   "outputs": [],
   "source": [
    "N_INPUTS=2\n",
    "BATCH_SIZE=4"
   ]
  },
  {
   "cell_type": "markdown",
   "metadata": {},
   "source": [
    "### DataLoader"
   ]
  },
  {
   "cell_type": "code",
   "execution_count": 58,
   "metadata": {},
   "outputs": [],
   "source": [
    "XOR= {(-1,-1):-1, (-1,1):1, (1,-1):1, (1,1):-1}\n",
    "\n",
    "data=LUTDataSet(XOR)\n",
    "\n",
    "train_loader= DataLoader(data, batch_size=BATCH_SIZE)"
   ]
  },
  {
   "cell_type": "markdown",
   "metadata": {},
   "source": [
    "### Confirming shapes"
   ]
  },
  {
   "cell_type": "code",
   "execution_count": 59,
   "metadata": {},
   "outputs": [
    {
     "name": "stdout",
     "output_type": "stream",
     "text": [
      "Number of data : 4\n",
      "Number of batches : 1\n",
      "Shape of X : torch.Size([2])\n",
      "Shape of Y : torch.Size([1])\n"
     ]
    }
   ],
   "source": [
    "X,Y= data[0]\n",
    "\n",
    "print(f\"Number of data : {len(data)}\")\n",
    "print(f\"Number of batches : {len(train_loader)}\")\n",
    "print(f\"Shape of X : {X.shape}\")\n",
    "print(f\"Shape of Y : {Y.shape}\")\n",
    "\n"
   ]
  },
  {
   "cell_type": "markdown",
   "metadata": {},
   "source": [
    "## Model"
   ]
  },
  {
   "cell_type": "code",
   "execution_count": 67,
   "metadata": {},
   "outputs": [
    {
     "data": {
      "text/plain": [
       "(0.75, 1.0, 0.75)"
      ]
     },
     "execution_count": 67,
     "metadata": {},
     "output_type": "execute_result"
    }
   ],
   "source": [
    "model=BinarizedModel(N_INPUTS, [2])\n",
    "\n",
    "evaluate_model_lut(model, XOR)"
   ]
  },
  {
   "cell_type": "markdown",
   "metadata": {},
   "source": [
    "### Learning parameters"
   ]
  },
  {
   "cell_type": "code",
   "execution_count": 68,
   "metadata": {},
   "outputs": [],
   "source": [
    "# Define your optimizer, criterion and num epochs\n",
    "optimizer = optim.Adam(model.parameters(), lr=0.005) \n",
    "criterion = nn.MSELoss()  \n",
    "num_epochs = 100"
   ]
  },
  {
   "cell_type": "markdown",
   "metadata": {},
   "source": [
    "### Training"
   ]
  },
  {
   "cell_type": "code",
   "execution_count": 69,
   "metadata": {},
   "outputs": [
    {
     "name": "stdout",
     "output_type": "stream",
     "text": [
      "Epoch [1/100], Loss: 1.0000\n",
      "Epoch [2/100], Loss: 1.0000\n",
      "Epoch [3/100], Loss: 1.0000\n",
      "Epoch [4/100], Loss: 1.0000\n",
      "Epoch [5/100], Loss: 1.0000\n",
      "Epoch [6/100], Loss: 1.0000\n",
      "Epoch [7/100], Loss: 1.0000\n",
      "Epoch [8/100], Loss: 1.0000\n",
      "Epoch [9/100], Loss: 1.0000\n",
      "Epoch [10/100], Loss: 1.0000\n",
      "Epoch [11/100], Loss: 1.0000\n",
      "Epoch [12/100], Loss: 1.0000\n",
      "Epoch [13/100], Loss: 1.0000\n",
      "Epoch [14/100], Loss: 1.0000\n",
      "Epoch [15/100], Loss: 1.0000\n",
      "Epoch [16/100], Loss: 1.0000\n",
      "Epoch [17/100], Loss: 1.0000\n",
      "Epoch [18/100], Loss: 1.0000\n",
      "Epoch [19/100], Loss: 1.0000\n",
      "Epoch [20/100], Loss: 1.0000\n",
      "Epoch [21/100], Loss: 1.0000\n",
      "Epoch [22/100], Loss: 1.0000\n",
      "Epoch [23/100], Loss: 1.0000\n",
      "Epoch [24/100], Loss: 1.0000\n",
      "Epoch [25/100], Loss: 1.0000\n",
      "Epoch [26/100], Loss: 1.0000\n",
      "Epoch [27/100], Loss: 1.0000\n",
      "Epoch [28/100], Loss: 1.0000\n",
      "Epoch [29/100], Loss: 1.0000\n",
      "Epoch [30/100], Loss: 1.0000\n",
      "Epoch [31/100], Loss: 1.0000\n",
      "Epoch [32/100], Loss: 1.0000\n",
      "Epoch [33/100], Loss: 1.0000\n",
      "Epoch [34/100], Loss: 1.0000\n",
      "Epoch [35/100], Loss: 1.0000\n",
      "Epoch [36/100], Loss: 1.0000\n",
      "Epoch [37/100], Loss: 1.0000\n",
      "Epoch [38/100], Loss: 1.0000\n",
      "Epoch [39/100], Loss: 1.0000\n",
      "Epoch [40/100], Loss: 1.0000\n",
      "Epoch [41/100], Loss: 1.0000\n",
      "Epoch [42/100], Loss: 1.0000\n",
      "Epoch [43/100], Loss: 1.0000\n",
      "Epoch [44/100], Loss: 1.0000\n",
      "Epoch [45/100], Loss: 1.0000\n",
      "Epoch [46/100], Loss: 1.0000\n",
      "Epoch [47/100], Loss: 1.0000\n",
      "Epoch [48/100], Loss: 1.0000\n",
      "Epoch [49/100], Loss: 1.0000\n",
      "Epoch [50/100], Loss: 1.0000\n",
      "Epoch [51/100], Loss: 1.0000\n",
      "Epoch [52/100], Loss: 1.0000\n",
      "Epoch [53/100], Loss: 1.0000\n",
      "Epoch [54/100], Loss: 1.0000\n",
      "Epoch [55/100], Loss: 1.0000\n",
      "Epoch [56/100], Loss: 1.0000\n",
      "Epoch [57/100], Loss: 1.0000\n",
      "Epoch [58/100], Loss: 1.0000\n",
      "Epoch [59/100], Loss: 1.0000\n",
      "Epoch [60/100], Loss: 1.0000\n",
      "Epoch [61/100], Loss: 1.0000\n",
      "Epoch [62/100], Loss: 1.0000\n",
      "Epoch [63/100], Loss: 1.0000\n",
      "Epoch [64/100], Loss: 1.0000\n",
      "Epoch [65/100], Loss: 1.0000\n",
      "Epoch [66/100], Loss: 1.0000\n",
      "Epoch [67/100], Loss: 1.0000\n",
      "Epoch [68/100], Loss: 1.0000\n",
      "Epoch [69/100], Loss: 1.0000\n",
      "Epoch [70/100], Loss: 1.0000\n",
      "Epoch [71/100], Loss: 1.0000\n",
      "Epoch [72/100], Loss: 1.0000\n",
      "Epoch [73/100], Loss: 1.0000\n",
      "Epoch [74/100], Loss: 1.0000\n",
      "Epoch [75/100], Loss: 1.0000\n",
      "Epoch [76/100], Loss: 1.0000\n",
      "Epoch [77/100], Loss: 1.0000\n",
      "Epoch [78/100], Loss: 1.0000\n",
      "Epoch [79/100], Loss: 1.0000\n",
      "Epoch [80/100], Loss: 1.0000\n",
      "Epoch [81/100], Loss: 1.0000\n",
      "Epoch [82/100], Loss: 1.0000\n",
      "Epoch [83/100], Loss: 1.0000\n",
      "Epoch [84/100], Loss: 1.0000\n",
      "Epoch [85/100], Loss: 1.0000\n",
      "Epoch [86/100], Loss: 1.0000\n",
      "Epoch [87/100], Loss: 1.0000\n",
      "Epoch [88/100], Loss: 1.0000\n",
      "Epoch [89/100], Loss: 1.0000\n",
      "Epoch [90/100], Loss: 1.0000\n",
      "Epoch [91/100], Loss: 1.0000\n",
      "Epoch [92/100], Loss: 1.0000\n",
      "Epoch [93/100], Loss: 1.0000\n",
      "Epoch [94/100], Loss: 1.0000\n",
      "Epoch [95/100], Loss: 1.0000\n",
      "Epoch [96/100], Loss: 1.0000\n",
      "Epoch [97/100], Loss: 1.0000\n",
      "Epoch [98/100], Loss: 1.0000\n",
      "Epoch [99/100], Loss: 1.0000\n",
      "Epoch [100/100], Loss: 1.0000\n"
     ]
    },
    {
     "data": {
      "text/plain": [
       "([], [])"
      ]
     },
     "execution_count": 69,
     "metadata": {},
     "output_type": "execute_result"
    }
   ],
   "source": [
    "train_model(model,train_loader,optimizer, num_epochs, criterion)"
   ]
  },
  {
   "cell_type": "markdown",
   "metadata": {},
   "source": [
    "## Evaluate Model"
   ]
  },
  {
   "cell_type": "code",
   "execution_count": 66,
   "metadata": {},
   "outputs": [
    {
     "data": {
      "text/plain": [
       "(0.5, 1.0, 0.5)"
      ]
     },
     "execution_count": 66,
     "metadata": {},
     "output_type": "execute_result"
    }
   ],
   "source": [
    "evaluate_model_lut(model, XOR)"
   ]
  },
  {
   "cell_type": "markdown",
   "metadata": {},
   "source": [
    "## Export result"
   ]
  },
  {
   "cell_type": "code",
   "execution_count": 10,
   "metadata": {},
   "outputs": [],
   "source": [
    "def load_to_json(list_of_dicts,path):\n",
    "    with open(path, 'w') as json_file:\n",
    "        json.dump(list_of_dicts, json_file)\n",
    "\n",
    "load_to_json(params, f\"OUTPUT/{fcn}_{N_INPUTS}_params.json\")\n",
    "load_to_json(grad, f\"OUTPUT/{fcn}_{N_INPUTS}_grad.json\")"
   ]
  }
 ],
 "metadata": {
  "kernelspec": {
   "display_name": "Python 3",
   "language": "python",
   "name": "python3"
  },
  "language_info": {
   "codemirror_mode": {
    "name": "ipython",
    "version": 3
   },
   "file_extension": ".py",
   "mimetype": "text/x-python",
   "name": "python",
   "nbconvert_exporter": "python",
   "pygments_lexer": "ipython3",
   "version": "3.11.4"
  }
 },
 "nbformat": 4,
 "nbformat_minor": 2
}
